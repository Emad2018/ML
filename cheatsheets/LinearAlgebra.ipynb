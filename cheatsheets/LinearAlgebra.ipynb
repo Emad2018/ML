{
 "cells": [
  {
   "cell_type": "markdown",
   "id": "2de57f52",
   "metadata": {
    "vscode": {
     "languageId": "markdown"
    }
   },
   "source": [
    "# Linear Algebra Cheatsheet\n",
    "\n",
    "## 1. Vectors\n",
    "- **Definition**: Ordered list of numbers.\n",
    "- **Notation**: $\\mathbf{v} = [v_1, v_2, ..., v_n]^T$\n",
    "- **Addition**: $\\mathbf{a} + \\mathbf{b}$\n",
    "- **Scalar Multiplication**: $c\\mathbf{a}$\n",
    "- **Dot Product**: $\\mathbf{a} \\cdot \\mathbf{b} = \\sum_{i=1}^n a_i b_i$\n",
    "- **Norm (Length)**: $\\|\\mathbf{a}\\| = \\sqrt{\\mathbf{a} \\cdot \\mathbf{a}}$\n",
    "\n",
    "## 2. Matrices\n",
    "- **Definition**: Rectangular array of numbers.\n",
    "- **Notation**: $A_{m \\times n}$\n",
    "- **Addition**: $A + B$\n",
    "- **Scalar Multiplication**: $cA$\n",
    "- **Matrix Multiplication**: $AB$ (if $A_{m \\times n}$, $B_{n \\times p}$)\n",
    "- **Transpose**: $A^T$\n",
    "- **Identity Matrix**: $I_n$ (diagonal of 1s)\n",
    "- **Inverse**: $A^{-1}$ (if $AA^{-1} = I$)\n",
    "\n",
    "## 3. Special Matrices\n",
    "- **Diagonal Matrix**: Nonzero only on diagonal.\n",
    "- **Symmetric Matrix**: $A = A^T$\n",
    "- **Orthogonal Matrix**: $A^T A = I$\n",
    "- **Zero Matrix**: All elements are zero.\n",
    "\n",
    "## 4. Determinant\n",
    "- **Definition**: Scalar value for square matrices.\n",
    "- **Notation**: $\\det(A)$ or $|A|$\n",
    "- **Properties**:\n",
    "    - $\\det(AB) = \\det(A)\\det(B)$\n",
    "    - $\\det(A^T) = \\det(A)$\n",
    "    - $\\det(A^{-1}) = 1/\\det(A)$\n",
    "\n",
    "## 5. Rank\n",
    "- **Definition**: Number of linearly independent rows/columns.\n",
    "- **Notation**: $\\text{rank}(A)$\n",
    "\n",
    "## 6. Linear Systems\n",
    "- **Form**: $A\\mathbf{x} = \\mathbf{b}$\n",
    "- **Solution**: $\\mathbf{x} = A^{-1}\\mathbf{b}$ (if $A$ invertible)\n",
    "\n",
    "## 7. Eigenvalues and Eigenvectors\n",
    "- **Definition**: $A\\mathbf{v} = \\lambda\\mathbf{v}$\n",
    "- **$\\lambda$**: Eigenvalue\n",
    "- **$\\mathbf{v}$**: Eigenvector\n",
    "- **Characteristic Equation**: $\\det(A - \\lambda I) = 0$\n",
    "\n",
    "## 8. Trace\n",
    "- **Definition**: Sum of diagonal elements.\n",
    "- **Notation**: $\\text{tr}(A) = \\sum_{i=1}^n a_{ii}$\n",
    "\n",
    "## 9. Orthogonality\n",
    "- **Vectors**: $\\mathbf{a} \\cdot \\mathbf{b} = 0$\n",
    "- **Matrices**: $A^T A = I$\n",
    "\n",
    "## 10. Useful Python (NumPy) Functions\n",
    "- **Create array**: `np.array([1, 2, 3])`\n",
    "- **Zeros/Ones**: `np.zeros((m, n))`, `np.ones((m, n))`\n",
    "- **Identity matrix**: `np.eye(n)`\n",
    "- **Transpose**: `A.T`\n",
    "- **Matrix multiplication**: `A @ B` or `np.dot(A, B)`\n",
    "- **Inverse**: `np.linalg.inv(A)`\n",
    "- **Determinant**: `np.linalg.det(A)`\n",
    "- **Rank**: `np.linalg.matrix_rank(A)`\n",
    "- **Eigenvalues/vectors**: `np.linalg.eig(A)`\n",
    "- **Solve linear system**: `np.linalg.solve(A, b)`\n",
    "- **Norm**: `np.linalg.norm(a)`\n",
    "- **Trace**: `np.trace(A)`"
   ]
  },
  {
   "cell_type": "code",
   "execution_count": null,
   "id": "97526bb6",
   "metadata": {
    "vscode": {
     "languageId": "markdown"
    }
   },
   "outputs": [],
   "source": []
  }
 ],
 "metadata": {
  "kernelspec": {
   "display_name": "ML",
   "language": "python",
   "name": "python3"
  },
  "language_info": {
   "codemirror_mode": {
    "name": "ipython",
    "version": 3
   },
   "file_extension": ".py",
   "mimetype": "text/x-python",
   "name": "python",
   "nbconvert_exporter": "python",
   "pygments_lexer": "ipython3",
   "version": "3.12.3"
  }
 },
 "nbformat": 4,
 "nbformat_minor": 5
}
