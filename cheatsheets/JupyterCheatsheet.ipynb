{
 "cells": [
  {
   "cell_type": "markdown",
   "id": "8d98a56a",
   "metadata": {
    "vscode": {
     "languageId": "markdown"
    }
   },
   "source": [
    "# Jupyter Notebook Cheatsheet\n",
    "\n",
    "## Basic Shortcuts\n",
    "- `Shift + Enter`: Run cell, select below\n",
    "- `Ctrl + Enter`: Run cell\n",
    "- `Alt + Enter`: Run cell, insert below\n",
    "- `Esc`: Command mode\n",
    "- `Enter`: Edit mode\n",
    "\n",
    "## Command Mode (press `Esc`)\n",
    "- `A`: Insert cell above\n",
    "- `B`: Insert cell below\n",
    "- `D, D`: Delete cell\n",
    "- `Z`: Undo cell deletion\n",
    "- `X`: Cut cell\n",
    "- `C`: Copy cell\n",
    "- `V`: Paste cell below\n",
    "- `Shift + V`: Paste cell above\n",
    "- `M`: Change cell to Markdown\n",
    "- `Y`: Change cell to Code\n",
    "- `L`: Toggle line numbers\n",
    "\n",
    "## Edit Mode (press `Enter`)\n",
    "- `Ctrl + Shift + -`: Split cell at cursor\n",
    "- `Tab`: Code completion\n",
    "- `Shift + Tab`: Tooltip\n",
    "\n",
    "## Markdown Basics\n",
    "- `# Heading 1`\n",
    "- `## Heading 2`\n",
    "- `**bold**`\n",
    "- `*italic*`\n",
    "- `- List item`\n",
    "- `` `code` ``\n",
    "- `[Link](http://...)`\n",
    "- `![Image](url)`\n",
    "\n",
    "## Magic Commands\n",
    "- `%time`: Time execution of a single line\n",
    "- `%timeit`: Time repeated execution\n",
    "- `%matplotlib inline`: Show plots inline\n",
    "- `%lsmagic`: List all magics\n",
    "- `!command`: Run shell command\n",
    "\n",
    "## Kernel\n",
    "- Restart: `0, 0` (press twice)\n",
    "- Interrupt: `I, I` (press twice)\n",
    "\n",
    "## Useful Tips\n",
    "- Drag cells to reorder\n",
    "- Use `File > Download as` to export notebook\n",
    "- Use `Help > Keyboard Shortcuts` for full list\n"
   ]
  },
  {
   "cell_type": "code",
   "execution_count": null,
   "id": "db44aa9a",
   "metadata": {
    "vscode": {
     "languageId": "markdown"
    }
   },
   "outputs": [],
   "source": []
  }
 ],
 "metadata": {
  "kernelspec": {
   "display_name": "ML",
   "language": "python",
   "name": "python3"
  },
  "language_info": {
   "codemirror_mode": {
    "name": "ipython",
    "version": 3
   },
   "file_extension": ".py",
   "mimetype": "text/x-python",
   "name": "python",
   "nbconvert_exporter": "python",
   "pygments_lexer": "ipython3",
   "version": "3.12.3"
  }
 },
 "nbformat": 4,
 "nbformat_minor": 5
}
