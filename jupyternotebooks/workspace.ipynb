{
 "cells": [
  {
   "cell_type": "code",
   "execution_count": 2,
   "id": "e6e94b23",
   "metadata": {},
   "outputs": [],
   "source": [
    "import numpy as np      # Importing numpy library"
   ]
  },
  {
   "cell_type": "code",
   "execution_count": null,
   "id": "1bc8d145",
   "metadata": {},
   "outputs": [],
   "source": []
  }
 ],
 "metadata": {
  "kernelspec": {
   "display_name": "ML",
   "language": "python",
   "name": "python3"
  },
  "language_info": {
   "codemirror_mode": {
    "name": "ipython",
    "version": 3
   },
   "file_extension": ".py",
   "mimetype": "text/x-python",
   "name": "python",
   "nbconvert_exporter": "python",
   "pygments_lexer": "ipython3",
   "version": "3.12.11"
  }
 },
 "nbformat": 4,
 "nbformat_minor": 5
}
